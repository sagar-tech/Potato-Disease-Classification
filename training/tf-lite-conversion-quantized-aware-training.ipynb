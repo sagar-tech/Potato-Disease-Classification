version https://git-lfs.github.com/spec/v1
oid sha256:e28c2a32c3a8a429d8199dabbbc7ac36a572b296a989596ce47a313b778d5e5d
size 2131088
