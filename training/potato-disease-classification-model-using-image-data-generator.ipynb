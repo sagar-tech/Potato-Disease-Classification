version https://git-lfs.github.com/spec/v1
oid sha256:d40f9cd403478ff0951f43cdaeb047f00be7bce982f5af9d57c7db8cad636839
size 1610506
