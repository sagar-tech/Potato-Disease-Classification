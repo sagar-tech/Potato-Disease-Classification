version https://git-lfs.github.com/spec/v1
oid sha256:6b2e8e76b0187aa1c15ecff1432f150453305c60c72eb1d74116b210970b3ba0
size 577678
