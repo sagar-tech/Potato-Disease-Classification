version https://git-lfs.github.com/spec/v1
oid sha256:6ac5ef9315a5ad0d0d7668feed9794e7cd8ac806300d5b03476dd1bdf8d9f9dc
size 1553968
